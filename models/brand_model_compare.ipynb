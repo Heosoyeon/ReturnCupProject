{
 "cells": [
  {
   "cell_type": "code",
   "execution_count": 6,
   "id": "50f92c05",
   "metadata": {},
   "outputs": [],
   "source": [
    "import os.path\n",
    "import cv2\n",
    "import numpy as np\n",
    "import pandas as pd\n",
    "import matplotlib.pyplot as plt\n",
    "import tensorflow as tf\n",
    "import seaborn as sns\n",
    "\n",
    "from pathlib import Path\n",
    "from tqdm import tqdm\n",
    "from time import perf_counter\n",
    "\n",
    "from sklearn.model_selection import train_test_split\n",
    "from sklearn.metrics import classification_report,accuracy_score\n",
    "from IPython.display import Markdown, display\n",
    "\n",
    "import efficientnet.keras as efn\n",
    "from keras import backend as K"
   ]
  },
  {
   "cell_type": "code",
   "execution_count": 2,
   "id": "a04b60a7",
   "metadata": {},
   "outputs": [
    {
     "data": {
      "text/html": [
       "<div>\n",
       "<style scoped>\n",
       "    .dataframe tbody tr th:only-of-type {\n",
       "        vertical-align: middle;\n",
       "    }\n",
       "\n",
       "    .dataframe tbody tr th {\n",
       "        vertical-align: top;\n",
       "    }\n",
       "\n",
       "    .dataframe thead th {\n",
       "        text-align: right;\n",
       "    }\n",
       "</style>\n",
       "<table border=\"1\" class=\"dataframe\">\n",
       "  <thead>\n",
       "    <tr style=\"text-align: right;\">\n",
       "      <th></th>\n",
       "      <th>Filepath</th>\n",
       "      <th>Label</th>\n",
       "    </tr>\n",
       "  </thead>\n",
       "  <tbody>\n",
       "    <tr>\n",
       "      <th>0</th>\n",
       "      <td>final_test_brand/twosome/KakaoTalk_Photo_2022-...</td>\n",
       "      <td>twosome</td>\n",
       "    </tr>\n",
       "    <tr>\n",
       "      <th>1</th>\n",
       "      <td>final_test_brand/hollys/hollys_good (229).jpg</td>\n",
       "      <td>hollys</td>\n",
       "    </tr>\n",
       "    <tr>\n",
       "      <th>2</th>\n",
       "      <td>final_test_brand/hollys/hollys_good (263).jpg</td>\n",
       "      <td>hollys</td>\n",
       "    </tr>\n",
       "    <tr>\n",
       "      <th>3</th>\n",
       "      <td>final_test_brand/twosome/KakaoTalk_Photo_2022-...</td>\n",
       "      <td>twosome</td>\n",
       "    </tr>\n",
       "    <tr>\n",
       "      <th>4</th>\n",
       "      <td>final_test_brand/ediya/IMG_6179.jpg</td>\n",
       "      <td>ediya</td>\n",
       "    </tr>\n",
       "  </tbody>\n",
       "</table>\n",
       "</div>"
      ],
      "text/plain": [
       "                                            Filepath    Label\n",
       "0  final_test_brand/twosome/KakaoTalk_Photo_2022-...  twosome\n",
       "1      final_test_brand/hollys/hollys_good (229).jpg   hollys\n",
       "2      final_test_brand/hollys/hollys_good (263).jpg   hollys\n",
       "3  final_test_brand/twosome/KakaoTalk_Photo_2022-...  twosome\n",
       "4                final_test_brand/ediya/IMG_6179.jpg    ediya"
      ]
     },
     "execution_count": 2,
     "metadata": {},
     "output_type": "execute_result"
    }
   ],
   "source": [
    "dir_ = Path('./final_test_brand')\n",
    "filepaths = list(dir_.glob(r'**/*'))\n",
    "def proc_img(filepath):\n",
    "    \"\"\"\n",
    "   \t\t이미지데이터의 경로와 label데이터로 데이터프레임 만들기 \n",
    "    \"\"\"\n",
    "\n",
    "    labels = [str(filepath[i]).split(\"/\")[-2] \\\n",
    "              for i in range(len(filepath))]\n",
    "\n",
    "    filepath = pd.Series(filepath, name='Filepath').astype(str)\n",
    "    labels = pd.Series(labels, name='Label')\n",
    "\n",
    "    # 경로와 라벨 concatenate\n",
    "    test_df3 = pd.concat([filepath, labels], axis=1)\n",
    "\n",
    "    # index 재설정\n",
    "    test_df3 = test_df3.sample(frac=1,random_state=0).reset_index(drop = True)\n",
    "    \n",
    "    return test_df3\n",
    "\n",
    "test_df3 = proc_img(filepaths)\n",
    "test_df3.head(5)"
   ]
  },
  {
   "cell_type": "code",
   "execution_count": 3,
   "id": "cc28d058",
   "metadata": {},
   "outputs": [
    {
     "name": "stdout",
     "output_type": "stream",
     "text": [
      "Number of pictures: 31\n",
      "\n",
      "Number of different labels: 4\n",
      "\n",
      "Labels: ['twosome' 'hollys' 'ediya' 'starbucks']\n"
     ]
    }
   ],
   "source": [
    "spac = test_df3[test_df3['Label'].str.contains('final_test_brand')].index\n",
    "\n",
    "test_df3.drop(spac, inplace=True)\n",
    "\n",
    "print(f'Number of pictures: {test_df3.shape[0]}\\n')\n",
    "print(f'Number of different labels: {len(test_df3.Label.unique())}\\n')\n",
    "print(f'Labels: {test_df3.Label.unique()}')"
   ]
  },
  {
   "cell_type": "code",
   "execution_count": 4,
   "id": "d8e5a452",
   "metadata": {},
   "outputs": [],
   "source": [
    "def create_gen():\n",
    "    # 생성기 및 데이터 증강으로 이미지 로드\n",
    "    train_generator = tf.keras.preprocessing.image.ImageDataGenerator(\n",
    "        preprocessing_function=tf.keras.applications.mobilenet_v2.preprocess_input,\n",
    "        validation_split=0.1\n",
    "    )\n",
    "\n",
    "    test_generator = tf.keras.preprocessing.image.ImageDataGenerator(\n",
    "        preprocessing_function=tf.keras.applications.mobilenet_v2.preprocess_input\n",
    "    )\n",
    "\n",
    "    test_images = test_generator.flow_from_dataframe(\n",
    "        dataframe=test_df3,\n",
    "        x_col='Filepath',\n",
    "        y_col='Label',\n",
    "        target_size=(448, 448),\n",
    "        color_mode='rgb',\n",
    "        class_mode='categorical',\n",
    "        batch_size=32,\n",
    "        shuffle=False\n",
    "    )\n",
    "    \n",
    "    return test_generator,test_images"
   ]
  },
  {
   "cell_type": "code",
   "execution_count": 5,
   "id": "9938652c",
   "metadata": {},
   "outputs": [],
   "source": [
    "from tensorflow.keras.models   import Sequential , clone_model , Model, load_model"
   ]
  },
  {
   "cell_type": "code",
   "execution_count": 35,
   "id": "5435fee9",
   "metadata": {},
   "outputs": [
    {
     "data": {
      "text/plain": [
       "{'ediya': 0, 'hollys': 1, 'starbucks': 2, 'twosome': 3}"
      ]
     },
     "execution_count": 35,
     "metadata": {},
     "output_type": "execute_result"
    }
   ],
   "source": [
    "test_images.class_indices"
   ]
  },
  {
   "cell_type": "code",
   "execution_count": 22,
   "id": "8db7f14d",
   "metadata": {},
   "outputs": [
    {
     "data": {
      "text/html": [
       "<div>\n",
       "<style scoped>\n",
       "    .dataframe tbody tr th:only-of-type {\n",
       "        vertical-align: middle;\n",
       "    }\n",
       "\n",
       "    .dataframe tbody tr th {\n",
       "        vertical-align: top;\n",
       "    }\n",
       "\n",
       "    .dataframe thead th {\n",
       "        text-align: right;\n",
       "    }\n",
       "</style>\n",
       "<table border=\"1\" class=\"dataframe\">\n",
       "  <thead>\n",
       "    <tr style=\"text-align: right;\">\n",
       "      <th></th>\n",
       "      <th>Filepath</th>\n",
       "    </tr>\n",
       "  </thead>\n",
       "  <tbody>\n",
       "    <tr>\n",
       "      <th>0</th>\n",
       "      <td>final_models/brand/brand_recog_model.h5</td>\n",
       "    </tr>\n",
       "    <tr>\n",
       "      <th>1</th>\n",
       "      <td>final_models/brand/brand_recog_model_0622_mbn.h5</td>\n",
       "    </tr>\n",
       "    <tr>\n",
       "      <th>2</th>\n",
       "      <td>final_models/brand/brand_recog_model_0622_mbn3.h5</td>\n",
       "    </tr>\n",
       "    <tr>\n",
       "      <th>3</th>\n",
       "      <td>final_models/brand/brand_v3_adam_epoch20_batch...</td>\n",
       "    </tr>\n",
       "    <tr>\n",
       "      <th>4</th>\n",
       "      <td>final_models/brand/brand_Xception_adam_epoch20...</td>\n",
       "    </tr>\n",
       "    <tr>\n",
       "      <th>5</th>\n",
       "      <td>final_models/brand/brand_recog_model_0622_mbn2.h5</td>\n",
       "    </tr>\n",
       "    <tr>\n",
       "      <th>6</th>\n",
       "      <td>final_models/brand/brand_v3_adam1.h5</td>\n",
       "    </tr>\n",
       "    <tr>\n",
       "      <th>7</th>\n",
       "      <td>final_models/brand/brand_shufflenet_adam_epoch...</td>\n",
       "    </tr>\n",
       "  </tbody>\n",
       "</table>\n",
       "</div>"
      ],
      "text/plain": [
       "                                            Filepath\n",
       "0            final_models/brand/brand_recog_model.h5\n",
       "1   final_models/brand/brand_recog_model_0622_mbn.h5\n",
       "2  final_models/brand/brand_recog_model_0622_mbn3.h5\n",
       "3  final_models/brand/brand_v3_adam_epoch20_batch...\n",
       "4  final_models/brand/brand_Xception_adam_epoch20...\n",
       "5  final_models/brand/brand_recog_model_0622_mbn2.h5\n",
       "6               final_models/brand/brand_v3_adam1.h5\n",
       "7  final_models/brand/brand_shufflenet_adam_epoch..."
      ]
     },
     "execution_count": 22,
     "metadata": {},
     "output_type": "execute_result"
    }
   ],
   "source": [
    "dir_ = Path('./final_models/brand')\n",
    "model_filepaths = list(dir_.glob(r'**/*.h5'))\n",
    "def proc_img2(model_filepath):\n",
    "    \"\"\"\n",
    "    \"\"\"\n",
    "\n",
    "#     labels = [str(filepath[i]).split(\"/\")[-2] \\\n",
    "#               for i in range(len(filepath))]\n",
    "\n",
    "    model_filepath = pd.Series(model_filepath, name='Filepath').astype(str)\n",
    "#     labels = pd.Series(labels, name='Label')\n",
    "\n",
    "    # 경로와 라벨 concatenate\n",
    "    model_df = pd.DataFrame(model_filepath)\n",
    "#     test_df3 = pd.concat([filepath, labels], axis=1)\n",
    "\n",
    "    # index 재설정\n",
    "    model_df = model_df.sample(frac=1,random_state=0).reset_index(drop = True)\n",
    "    \n",
    "    return model_df\n",
    "\n",
    "model_df = proc_img2(model_filepaths)\n",
    "model_df\n"
   ]
  },
  {
   "cell_type": "code",
   "execution_count": 23,
   "id": "2449c4dc",
   "metadata": {},
   "outputs": [],
   "source": [
    "model_list = model_df.values.tolist()"
   ]
  },
  {
   "cell_type": "code",
   "execution_count": 24,
   "id": "94ea70ec",
   "metadata": {
    "scrolled": false
   },
   "outputs": [
    {
     "name": "stdout",
     "output_type": "stream",
     "text": [
      "2번 모델 복원\n",
      "final_models/brand/brand_recog_model.h5\n",
      "Found 31 validated image filenames belonging to 4 classes.\n"
     ]
    },
    {
     "name": "stderr",
     "output_type": "stream",
     "text": [
      "2022-06-27 11:04:54.692610: I tensorflow/core/grappler/optimizers/custom_graph_optimizer_registry.cc:113] Plugin optimizer for device_type GPU is enabled.\n"
     ]
    },
    {
     "name": "stdout",
     "output_type": "stream",
     "text": [
      "Accuracy on the test set: 16.13%\n",
      "              precision    recall  f1-score   support\n",
      "\n",
      "       ediya       0.00      0.00      0.00         7\n",
      "      hollys       1.00      0.00      0.00        11\n",
      "   starbucks       0.17      1.00      0.29         5\n",
      "     twosome       1.00      0.00      0.00         8\n",
      "\n",
      "    accuracy                           0.16        31\n",
      "   macro avg       0.54      0.25      0.07        31\n",
      "weighted avg       0.64      0.16      0.05        31\n",
      "\n",
      "final_models/brand/brand_recog_model_0622_mbn.h5\n",
      "Found 31 validated image filenames belonging to 4 classes.\n"
     ]
    },
    {
     "name": "stderr",
     "output_type": "stream",
     "text": [
      "2022-06-27 11:05:03.005236: I tensorflow/core/grappler/optimizers/custom_graph_optimizer_registry.cc:113] Plugin optimizer for device_type GPU is enabled.\n"
     ]
    },
    {
     "name": "stdout",
     "output_type": "stream",
     "text": [
      "Accuracy on the test set: 74.19%\n",
      "              precision    recall  f1-score   support\n",
      "\n",
      "       ediya       0.83      0.71      0.77         7\n",
      "      hollys       1.00      1.00      1.00        11\n",
      "   starbucks       0.42      1.00      0.59         5\n",
      "     twosome       1.00      0.25      0.40         8\n",
      "\n",
      "    accuracy                           0.74        31\n",
      "   macro avg       0.81      0.74      0.69        31\n",
      "weighted avg       0.87      0.74      0.73        31\n",
      "\n",
      "final_models/brand/brand_recog_model_0622_mbn3.h5\n",
      "Found 31 validated image filenames belonging to 4 classes.\n"
     ]
    },
    {
     "name": "stderr",
     "output_type": "stream",
     "text": [
      "2022-06-27 11:05:07.983779: I tensorflow/core/grappler/optimizers/custom_graph_optimizer_registry.cc:113] Plugin optimizer for device_type GPU is enabled.\n"
     ]
    },
    {
     "name": "stdout",
     "output_type": "stream",
     "text": [
      "Accuracy on the test set: 74.19%\n",
      "              precision    recall  f1-score   support\n",
      "\n",
      "       ediya       0.56      0.71      0.63         7\n",
      "      hollys       1.00      1.00      1.00        11\n",
      "   starbucks       0.56      1.00      0.71         5\n",
      "     twosome       1.00      0.25      0.40         8\n",
      "\n",
      "    accuracy                           0.74        31\n",
      "   macro avg       0.78      0.74      0.68        31\n",
      "weighted avg       0.83      0.74      0.71        31\n",
      "\n",
      "final_models/brand/brand_v3_adam_epoch20_batch16.h5\n",
      "Found 31 validated image filenames belonging to 4 classes.\n"
     ]
    },
    {
     "name": "stderr",
     "output_type": "stream",
     "text": [
      "2022-06-27 11:05:13.190622: I tensorflow/core/grappler/optimizers/custom_graph_optimizer_registry.cc:113] Plugin optimizer for device_type GPU is enabled.\n"
     ]
    },
    {
     "name": "stdout",
     "output_type": "stream",
     "text": [
      "Accuracy on the test set: 58.06%\n",
      "              precision    recall  f1-score   support\n",
      "\n",
      "       ediya       0.42      0.71      0.53         7\n",
      "      hollys       1.00      1.00      1.00        11\n",
      "   starbucks       0.14      0.20      0.17         5\n",
      "     twosome       1.00      0.12      0.22         8\n",
      "\n",
      "    accuracy                           0.58        31\n",
      "   macro avg       0.64      0.51      0.48        31\n",
      "weighted avg       0.73      0.58      0.56        31\n",
      "\n",
      "final_models/brand/brand_Xception_adam_epoch20_batch16.h5\n",
      "Found 31 validated image filenames belonging to 4 classes.\n"
     ]
    },
    {
     "name": "stderr",
     "output_type": "stream",
     "text": [
      "2022-06-27 11:05:18.678694: I tensorflow/core/grappler/optimizers/custom_graph_optimizer_registry.cc:113] Plugin optimizer for device_type GPU is enabled.\n"
     ]
    },
    {
     "name": "stdout",
     "output_type": "stream",
     "text": [
      "Accuracy on the test set: 87.10%\n",
      "              precision    recall  f1-score   support\n",
      "\n",
      "       ediya       0.70      1.00      0.82         7\n",
      "      hollys       1.00      1.00      1.00        11\n",
      "   starbucks       0.83      1.00      0.91         5\n",
      "     twosome       1.00      0.50      0.67         8\n",
      "\n",
      "    accuracy                           0.87        31\n",
      "   macro avg       0.88      0.88      0.85        31\n",
      "weighted avg       0.91      0.87      0.86        31\n",
      "\n",
      "final_models/brand/brand_recog_model_0622_mbn2.h5\n",
      "Found 31 validated image filenames belonging to 4 classes.\n"
     ]
    },
    {
     "name": "stderr",
     "output_type": "stream",
     "text": [
      "2022-06-27 11:05:24.109985: I tensorflow/core/grappler/optimizers/custom_graph_optimizer_registry.cc:113] Plugin optimizer for device_type GPU is enabled.\n"
     ]
    },
    {
     "name": "stdout",
     "output_type": "stream",
     "text": [
      "Accuracy on the test set: 74.19%\n",
      "              precision    recall  f1-score   support\n",
      "\n",
      "       ediya       0.83      0.71      0.77         7\n",
      "      hollys       1.00      1.00      1.00        11\n",
      "   starbucks       0.42      1.00      0.59         5\n",
      "     twosome       1.00      0.25      0.40         8\n",
      "\n",
      "    accuracy                           0.74        31\n",
      "   macro avg       0.81      0.74      0.69        31\n",
      "weighted avg       0.87      0.74      0.73        31\n",
      "\n",
      "final_models/brand/brand_v3_adam1.h5\n",
      "Found 31 validated image filenames belonging to 4 classes.\n"
     ]
    },
    {
     "name": "stderr",
     "output_type": "stream",
     "text": [
      "2022-06-27 11:05:29.499959: I tensorflow/core/grappler/optimizers/custom_graph_optimizer_registry.cc:113] Plugin optimizer for device_type GPU is enabled.\n"
     ]
    },
    {
     "name": "stdout",
     "output_type": "stream",
     "text": [
      "Accuracy on the test set: 58.06%\n",
      "              precision    recall  f1-score   support\n",
      "\n",
      "       ediya       0.36      0.71      0.48         7\n",
      "      hollys       1.00      1.00      1.00        11\n",
      "   starbucks       0.00      0.00      0.00         5\n",
      "     twosome       1.00      0.25      0.40         8\n",
      "\n",
      "    accuracy                           0.58        31\n",
      "   macro avg       0.59      0.49      0.47        31\n",
      "weighted avg       0.69      0.58      0.57        31\n",
      "\n",
      "final_models/brand/brand_shufflenet_adam_epoch20_batch16.h5\n",
      "Found 31 validated image filenames belonging to 4 classes.\n"
     ]
    },
    {
     "name": "stderr",
     "output_type": "stream",
     "text": [
      "2022-06-27 11:05:36.057206: I tensorflow/core/grappler/optimizers/custom_graph_optimizer_registry.cc:113] Plugin optimizer for device_type GPU is enabled.\n"
     ]
    },
    {
     "name": "stdout",
     "output_type": "stream",
     "text": [
      "Accuracy on the test set: 67.74%\n",
      "              precision    recall  f1-score   support\n",
      "\n",
      "       ediya       0.43      0.43      0.43         7\n",
      "      hollys       1.00      1.00      1.00        11\n",
      "   starbucks       0.57      0.80      0.67         5\n",
      "     twosome       0.50      0.38      0.43         8\n",
      "\n",
      "    accuracy                           0.68        31\n",
      "   macro avg       0.62      0.65      0.63        31\n",
      "weighted avg       0.67      0.68      0.67        31\n",
      "\n"
     ]
    }
   ],
   "source": [
    "print('2번 모델 복원')\n",
    "# loaded_model = tf.keras.models.load_model('brand_shufflenet_adam_epoch20_batch16.h5')\n",
    "for i in model_list:\n",
    "    print(i[0])\n",
    "    mod_path = './'+i[0]\n",
    "    loaded_model = tf.keras.models.load_model(mod_path, custom_objects={'tf': tf})\n",
    "#     loaded_model.summary()\n",
    "\n",
    "    test_generator,test_images=create_gen()\n",
    "\n",
    "\n",
    "\n",
    "    test_images.class_indices\n",
    "\n",
    "    # Predict the label of the test_images\n",
    "    pred = loaded_model.predict(test_images)\n",
    "    pred = np.argmax(pred,axis=1)\n",
    "\n",
    "    # Map the label\n",
    "    labels = (test_images.class_indices)\n",
    "    labels = dict((v,k) for k,v in labels.items())\n",
    "    pred = [labels[k] for k in pred]\n",
    "\n",
    "    y_test = list(test_df3.Label)\n",
    "    acc = accuracy_score(y_test,pred)\n",
    "    print(f'Accuracy on the test set: {acc * 100:.2f}%')\n",
    "\n",
    "    class_report = classification_report(y_test, pred, zero_division=1)\n",
    "    print(class_report)"
   ]
  },
  {
   "cell_type": "code",
   "execution_count": null,
   "id": "0a5ec1f1",
   "metadata": {},
   "outputs": [],
   "source": []
  },
  {
   "cell_type": "code",
   "execution_count": null,
   "id": "5531abbf",
   "metadata": {},
   "outputs": [],
   "source": []
  },
  {
   "cell_type": "code",
   "execution_count": null,
   "id": "7d7038ee",
   "metadata": {},
   "outputs": [],
   "source": []
  }
 ],
 "metadata": {
  "kernelspec": {
   "display_name": "Python 3 (ipykernel)",
   "language": "python",
   "name": "python3"
  },
  "language_info": {
   "codemirror_mode": {
    "name": "ipython",
    "version": 3
   },
   "file_extension": ".py",
   "mimetype": "text/x-python",
   "name": "python",
   "nbconvert_exporter": "python",
   "pygments_lexer": "ipython3",
   "version": "3.9.0"
  }
 },
 "nbformat": 4,
 "nbformat_minor": 5
}
